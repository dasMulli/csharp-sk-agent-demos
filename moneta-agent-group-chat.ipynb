{
 "cells": [
  {
   "cell_type": "markdown",
   "id": "f3b85c2e",
   "metadata": {},
   "source": [
    "# Moneta Agents Collaboration Sample\n",
    "\n",
    "Illustrates how `AgentGroupChat` can be used to orchestrate Azure AI Agent Service Agents for collaboratively solving problems.\n",
    "\n",
    "This sample requires the setup of https://github.com/Azure-Samples/moneta-agents in Azure and the tools/Settings.cs adapted accordingly."
   ]
  },
  {
   "cell_type": "code",
   "execution_count": 1,
   "id": "eace0b53",
   "metadata": {
    "polyglot_notebook": {
     "kernelName": "csharp"
    },
    "vscode": {
     "languageId": "polyglot-notebook"
    }
   },
   "outputs": [
    {
     "data": {
      "text/html": [
       "<div><div></div><div></div><div><strong>Installed Packages</strong><ul><li><span>Azure.AI.Projects, 1.0.0-beta.4</span></li><li><span>Azure.Identity, 1.13.2</span></li><li><span>Microsoft.Azure.Cosmos, 3.47.2</span></li><li><span>Microsoft.Extensions.Logging, 9.0.3</span></li><li><span>Microsoft.Extensions.Logging.Console, 9.0.3</span></li><li><span>Microsoft.SemanticKernel, 1.41.0</span></li><li><span>Microsoft.SemanticKernel.Agents.AzureAI, 1.41.0-preview</span></li><li><span>Microsoft.SemanticKernel.Agents.Core, 1.41.0-preview</span></li><li><span>Microsoft.SemanticKernel.Connectors.AzureOpenAI, 1.41.0</span></li><li><span>Microsoft.SemanticKernel.Prompty, 1.41.0-alpha</span></li><li><span>Newtonsoft.Json, 13.0.3</span></li></ul></div></div>"
      ]
     },
     "metadata": {},
     "output_type": "display_data"
    },
    {
     "data": {
      "text/html": [
       "<div><div></div><div></div><div><strong>Installed Packages</strong><ul><li><span>Markdig, 0.40.0</span></li></ul></div></div>"
      ]
     },
     "metadata": {},
     "output_type": "display_data"
    }
   ],
   "source": [
    "#r \"nuget: Azure.Identity, 1.13.2\"\n",
    "#r \"nuget: Azure.AI.Projects, 1.0.0-beta.4\"\n",
    "#r \"nuget: Microsoft.SemanticKernel, 1.41.0\"\n",
    "#r \"nuget: Microsoft.SemanticKernel.Connectors.AzureOpenAI, 1.41.0\"\n",
    "#r \"nuget: Microsoft.SemanticKernel.Agents.Core, 1.41.0-preview\"\n",
    "#r \"nuget: Microsoft.SemanticKernel.Agents.AzureAI, 1.41.0-preview\"\n",
    "#r \"nuget: Microsoft.SemanticKernel.Prompty, 1.41.0-alpha\"\n",
    "#r \"nuget: Microsoft.Azure.Cosmos, 3.47.2\"\n",
    "#r \"nuget: Microsoft.Extensions.Logging, 9.0.3\"\n",
    "#r \"nuget: Microsoft.Extensions.Logging.Console, 9.0.3\"\n",
    "#r \"nuget: Newtonsoft.Json, 13.0.3\"\n",
    "using Azure.Identity;\n",
    "using Azure.AI.Inference;\n",
    "using Azure.AI.Projects;\n",
    "using Azure.AI.OpenAI;\n",
    "using Microsoft.Azure.Cosmos;\n",
    "using Microsoft.DotNet.Interactive;\n",
    "using Microsoft.SemanticKernel;\n",
    "using Microsoft.SemanticKernel.Agents;\n",
    "using Microsoft.SemanticKernel.Agents.Chat;\n",
    "using Microsoft.SemanticKernel.Agents.AzureAI;\n",
    "using Microsoft.SemanticKernel.ChatCompletion;\n",
    "using Microsoft.SemanticKernel.Connectors.AzureOpenAI;\n",
    "using Microsoft.SemanticKernel.Services;\n",
    "using Microsoft.Extensions.DependencyInjection;\n",
    "using Microsoft.Extensions.Logging;\n",
    "using Microsoft.Extensions.Logging.Console;\n",
    "using Microsoft.Extensions.Options;\n",
    "using System.ComponentModel;\n",
    "using System.Text.Json;\n",
    "using System.Threading;\n",
    "using System.Linq;\n",
    "using Kernel = Microsoft.SemanticKernel.Kernel;\n",
    "#!import tools/Settings.cs\n",
    "#!import tools/Extensions.cs\n",
    "#!import tools/NotebookLogger.cs\n",
    "#!import tools/CrmClient.cs\n",
    "#!import tools/OutputHelper.csx"
   ]
  },
  {
   "cell_type": "code",
   "execution_count": 2,
   "metadata": {
    "polyglot_notebook": {
     "kernelName": "csharp"
    },
    "vscode": {
     "languageId": "polyglot-notebook"
    }
   },
   "outputs": [],
   "source": [
    "#pragma warning disable SKEXP0070\n",
    "var projectClient = new AIProjectClient(Settings.AIFoundryProjectConnectionString, new DefaultAzureCredential());\n",
    "var agentsClient = projectClient.GetAgentsClient();\n",
    "var serchConnection = (await projectClient.GetConnectionsClient().GetConnectionAsync(\"search-service-connection\")).Value;\n",
    "var aoaiConnection = (await projectClient.GetConnectionsClient().GetConnectionAsync(\"aoai-connection\")).Value;\n",
    "\n",
    "var kernelBuilder = Kernel.CreateBuilder();\n",
    "kernelBuilder.Services.AddLogging(builder =>\n",
    "{\n",
    "    builder.SetMinimumLevel(LogLevel.Warning)\n",
    "        .AddFilter(\"Microsoft.SemanticKernel.Agents.AgentGroupChat\", LogLevel.Information)\n",
    "        .AddFilter(\"Microsoft.SemanticKernel.Agents.Chat\", LogLevel.Information)\n",
    "        .AddSimpleConsole(o => o.SingleLine = false)\n",
    "        .ClearProviders()\n",
    "        .Services.AddSingleton<ILoggerProvider, NotebookLoggerProvider>();\n",
    "});\n",
    "kernelBuilder.Services.AddAzureOpenAIChatCompletion(Settings.ModelDeploymentName, aoaiConnection.Properties.Target, new DefaultAzureCredential());\n",
    "var defaultKernel = kernelBuilder.Build();"
   ]
  },
  {
   "cell_type": "markdown",
   "id": "02c2ff01",
   "metadata": {},
   "source": [
    "### Create the agents in Azure AI and then the corresponding Semantic Kernel agent objects"
   ]
  },
  {
   "cell_type": "code",
   "execution_count": 3,
   "metadata": {
    "polyglot_notebook": {
     "kernelName": "csharp"
    },
    "vscode": {
     "languageId": "polyglot-notebook"
    }
   },
   "outputs": [
    {
     "name": "stdout",
     "output_type": "stream",
     "text": [
      "Agent with name 'CIOAgent' already exists. Updating the existing agent.\r\n"
     ]
    }
   ],
   "source": [
    "/* CIO Agent - Looks up documents from CIO (Chief Investment Office) for strategies and in-house view from Moneta Bank. */\n",
    "#pragma warning disable SKEXP0110\n",
    "var cioAgentDefinition = await agentsClient.CreateOrUpdateAgentAsync(\n",
    "    model: Settings.ModelDeploymentName,\n",
    "    name: \"CIOAgent\",\n",
    "    description: \"Agent processes the user request about investement researches and in house views from documents produced by the CIO (Chief Investment Office) and in-house view from Moneta Bank.\",\n",
    "    instructions:\n",
    "        \"\"\"\n",
    "        You are an assistant that responds to the user query about investement researches and in house views from documents produced by the CIO (Chief Investment Office) and in-house view from Moneta Bank.\n",
    "\n",
    "        **Your Responsibilities:**\n",
    "        - Provide information about researches and investement reccomendations from documents produced by the CIO (Chief Investment Office) and in-house view from Moneta Bank by using the provided function: 'search_cio'.\n",
    "        - Don't use your general knowledge to respond. Use only the provided functions.\n",
    "        - Provide CONCISE and specific answer to the user's question. Do not provide general information.\n",
    "        - Make sure to provide accurate and relevant information based on the user's inquiry.\n",
    "        \"\"\",\n",
    "    temperature: 0.1f,\n",
    "    tools: [new AzureAISearchToolDefinition()],\n",
    "    toolResources: new ToolResources(){\n",
    "        AzureAISearch = new AzureAISearchResource(){\n",
    "            IndexList = {\n",
    "                new IndexResource(serchConnection.Id, \"cio-index\"),\n",
    "            }\n",
    "        }\n",
    "    }\n",
    ");\n",
    "var cioAgent = new AzureAIAgent(cioAgentDefinition, agentsClient){\n",
    "    Kernel = defaultKernel.Clone()\n",
    "};"
   ]
  },
  {
   "cell_type": "code",
   "execution_count": 4,
   "metadata": {
    "polyglot_notebook": {
     "kernelName": "csharp"
    },
    "vscode": {
     "languageId": "polyglot-notebook"
    }
   },
   "outputs": [
    {
     "name": "stdout",
     "output_type": "stream",
     "text": [
      "Agent with name 'CRMAgent' already exists. Updating the existing agent.\r\n"
     ]
    }
   ],
   "source": [
    "/* CRM CLient - Uses CosmosDB to look up customer data */\n",
    "#pragma warning disable SKEXP0110\n",
    "var crmPlugin = KernelPluginFactory.CreateFromType<CrmClient>();\n",
    "var crmAgentDefinition = await agentsClient.CreateOrUpdateAgentAsync(\n",
    "    model: Settings.ModelDeploymentName,\n",
    "    name: \"CRMAgent\",\n",
    "    description: \"Agent processes the user request about investement researches and in house views from documents produced by the CIO (Chief Investment Office) and in-house view from Moneta Bank.\",\n",
    "    instructions:\n",
    "        \"\"\"\n",
    "        You are an assistant that responds to the user query about client data and client portfolios.\n",
    "\n",
    "        **Your Task:**\n",
    "        - FIRST carefully check if the customer name or client id is mentioned in the user request.\n",
    "        - If the request contains client ID or customer name then use CRM functions to retrieve customer policy details, 'load_from_crm_by_client_fullname' or 'load_from_crm_by_client_id' accordingly.\n",
    "        - DO NOT ask for the client's name or id. If you receive a request that references a customer without providing ID or Name, don't provide an answer and terminate. \n",
    "        - Don't use your general knowledge to respond. Use only the provided functions.\n",
    "        - Provide CONCISE and specific answer to the user's question. Do not provide general information.\n",
    "        - Make sure to provide accurate and relevant information based on the user's inquiry.\n",
    "        \"\"\",\n",
    "    temperature: 0.1f,\n",
    "    tools: crmPlugin.Select(func => new FunctionToolDefinition(func.Metadata.Name, func.Metadata.Description)).ToList()\n",
    ");\n",
    "var crmKernel = defaultKernel.Clone();\n",
    "crmKernel.Plugins.Add(crmPlugin);\n",
    "var crmAgent = new AzureAIAgent(crmAgentDefinition, agentsClient) {\n",
    "    Kernel = crmKernel\n",
    "};"
   ]
  },
  {
   "cell_type": "code",
   "execution_count": 5,
   "metadata": {
    "polyglot_notebook": {
     "kernelName": "csharp"
    },
    "vscode": {
     "languageId": "polyglot-notebook"
    }
   },
   "outputs": [
    {
     "name": "stdout",
     "output_type": "stream",
     "text": [
      "Agent with name 'FundsAgent' already exists. Updating the existing agent.\r\n"
     ]
    }
   ],
   "source": [
    "/* Funds Agent - processes the user request about generic funds and ETFs information  */\n",
    "/* for this demo we look up data from an AI Search index */\n",
    "#pragma warning disable SKEXP0110\n",
    "var fundsAgentDefinition = await agentsClient.CreateOrUpdateAgentAsync(\n",
    "    model: Settings.ModelDeploymentName,\n",
    "    name: \"FundsAgent\",\n",
    "    description: \"Agent processes the user request about generic funds and ETFs information by calling external data sources\",\n",
    "    instructions:\n",
    "        \"\"\"\n",
    "        You are an assistant that responds to the user query about generic funds and ETFs information.\n",
    "\n",
    "        **Your Task:**\n",
    "        - Provide information about funds, etfs,  etc. offered by using the provided function: 'search_funds_details'.\n",
    "        - When using 'search_funds_details' function YOU MUST include all details that are relevant to the user's inquiry - such as funds top holdings, sector exposures, perfomances, etc.\n",
    "        - When using 'search_funds_details' function YOU MUST include user question AS IS\n",
    "        - Don't use your general knowledge to respond. Use only the provided functions.\n",
    "        - Provide CONCISE and specific answer to the user's question. Do not provide general information.\n",
    "        - Make sure to provide accurate and relevant information based on the user's inquiry.\n",
    "        \"\"\",\n",
    "    temperature: 0.1f,\n",
    "    tools: [new AzureAISearchToolDefinition()],\n",
    "    toolResources: new ToolResources(){\n",
    "        AzureAISearch = new AzureAISearchResource(){\n",
    "            IndexList = {\n",
    "                new IndexResource(serchConnection.Id, \"funds-index\"),\n",
    "            }\n",
    "        }\n",
    "    }\n",
    ");\n",
    "var fundsAgent = new AzureAIAgent(fundsAgentDefinition, agentsClient){\n",
    "    Kernel = defaultKernel.Clone()\n",
    "};"
   ]
  },
  {
   "cell_type": "code",
   "execution_count": 6,
   "metadata": {
    "polyglot_notebook": {
     "kernelName": "csharp"
    },
    "vscode": {
     "languageId": "polyglot-notebook"
    }
   },
   "outputs": [
    {
     "name": "stdout",
     "output_type": "stream",
     "text": [
      "Agent with name 'SummariserAgent' already exists. Updating the existing agent.\r\n"
     ]
    }
   ],
   "source": [
    "/* Funds Agent - processes the user request about generic funds and ETFs information  */\n",
    "/* for this demo we look up data from an AI Search index */\n",
    "#pragma warning disable SKEXP0110\n",
    "var summarizerAgentDefinition = await agentsClient.CreateOrUpdateAgentAsync(\n",
    "    model: Settings.ModelDeploymentName,\n",
    "    name: \"SummariserAgent\",\n",
    "    description: \"The agent that summarises a final response to the user's original inquiry by collecting responses from the OTHER agentsurces\",\n",
    "    instructions:\n",
    "        \"\"\"\n",
    "        You are a Summariser Agent. You receive information from multiple agents and need to compile a final response to the user.\\n\n",
    "\n",
    "        Provide a coherent and helpful response to the user by combining the information from the agents. \\n\n",
    "        - You **MUST** use only information provided in the chat history. Do NOT use any external sources or functions. \\n\n",
    "        - You **MUST** assume that the information provided by other agents is not visible to the end user. \\n\n",
    "        - You **MUST** formulate the full answer based on the information from other agents. \\n\n",
    "        - You **MUST** check the original USER question, scan the chat history, and summarise the coherent reponse \\n\n",
    "\n",
    "        The response MUST NOT be the original question, or generic statement. \n",
    "\n",
    "        It **MUST** be specific to the user's inquiry and provide a clear and concise answer.\n",
    "\n",
    "        FINAL RESPONSE:\n",
    "        \"\"\",\n",
    "    temperature: 0.7f\n",
    ");\n",
    "var summarizerAgent = new AzureAIAgent(summarizerAgentDefinition, agentsClient){\n",
    "    Kernel = defaultKernel.Clone()\n",
    "};"
   ]
  },
  {
   "cell_type": "markdown",
   "id": "76075fe4",
   "metadata": {},
   "source": [
    "### Create the Agent Group Chat object.\n",
    "\n",
    "This sets up an `AgentGroupChat` with the agents and uses a custom speaker selection strategy which at the und uses the summarizer agent to generate the final response."
   ]
  },
  {
   "cell_type": "code",
   "execution_count": 7,
   "metadata": {
    "polyglot_notebook": {
     "kernelName": "csharp"
    },
    "vscode": {
     "languageId": "polyglot-notebook"
    }
   },
   "outputs": [],
   "source": [
    "#pragma warning disable SKEXP0110\n",
    "\n",
    "Microsoft.SemanticKernel.Agents.Agent[] agents = [cioAgent, crmAgent, fundsAgent, summarizerAgent];\n",
    "\n",
    "var definitions = string.Join(\"\\n\",\n",
    "    agents.Select(agent => $\"{agent.Name}: {agent.Description}\"));\n",
    "var speakerSelectionPrompt =\n",
    "    $$$\"\"\"\n",
    "    You are the next speaker selector.\n",
    "\n",
    "    - You MUST return ONLY agent name from the list of available agents below.\n",
    "    - You MUST return the agent name and nothing else.\n",
    "    - Check the history, if any, and decide WHAT agent is the best next speaker\n",
    "    - The names are case-sensitive and should not be abbreviated or changed.\n",
    "    - YOU MUST OBSERVE AGENT USAGE INSTRUCTIONS.\n",
    "\n",
    "    # AVAILABLE AGENTS\n",
    "\n",
    "    {{{definitions}}}\n",
    "\n",
    "    # CHAT HISTORY\n",
    "\n",
    "    {{$history}}\n",
    "    \"\"\";\n",
    "\n",
    "var groupChatStrategyKernel = defaultKernel.Clone();\n",
    "var speakerSelectorFunction = groupChatStrategyKernel.CreateFunctionFromPrompt(\n",
    "    functionName: \"SpeakerSelector\",\n",
    "    promptTemplate: speakerSelectionPrompt,\n",
    "    executionSettings: new AzureOpenAIPromptExecutionSettings() {\n",
    "    Temperature = 0.0f,\n",
    "    MaxTokens = 50,\n",
    "});\n",
    "\n",
    "class AlwaysTrueTerminationStrategy : TerminationStrategy\n",
    "{\n",
    "    protected override Task<bool> ShouldAgentTerminateAsync(Microsoft.SemanticKernel.Agents.Agent agent, IReadOnlyList<ChatMessageContent> history, CancellationToken cancellationToken = default)\n",
    "    {\n",
    "        // Always return true to terminate the conversation, this assumes that the last agent or limit is set correctly\n",
    "        return Task.FromResult(true);\n",
    "    }\n",
    "}\n",
    "\n",
    "AgentGroupChat CreateAgentGroupChat() => new AgentGroupChat(agents)\n",
    "{\n",
    "    ExecutionSettings = new(){\n",
    "        SelectionStrategy = new KernelFunctionSelectionStrategy(speakerSelectorFunction, groupChatStrategyKernel) {\n",
    "            ResultParser = (result) =>\n",
    "                result.GetValue<string>() is { Length: > 0 } agentName\n",
    "                    ? agents.FirstOrDefault(a => a.Name == agentName).Name ?? summarizerAgent.Name\n",
    "                    : summarizerAgent.Name,\n",
    "            AgentsVariableName = \"agents\",\n",
    "            HistoryVariableName = \"history\",\n",
    "        },\n",
    "        // Terminate when the summarizer agent was selected last or the maximum number of iterations is reached\n",
    "        TerminationStrategy = new AlwaysTrueTerminationStrategy() {\n",
    "            Agents = [summarizerAgent],\n",
    "            MaximumIterations = 10\n",
    "        }\n",
    "    },\n",
    "    LoggerFactory = defaultKernel.LoggerFactory\n",
    "};"
   ]
  },
  {
   "cell_type": "markdown",
   "id": "44f1f497",
   "metadata": {},
   "source": [
    "### Execute the Group chat using a staring prompt"
   ]
  },
  {
   "cell_type": "code",
   "execution_count": 8,
   "metadata": {
    "polyglot_notebook": {
     "kernelName": "csharp"
    },
    "vscode": {
     "languageId": "polyglot-notebook"
    }
   },
   "outputs": [
    {
     "data": {
      "text/html": [
       "<style>\r\n",
       "    body {\r\n",
       "        font-family: Arial, sans-serif;\r\n",
       "        background: #f5f5f5;\r\n",
       "        padding: 20px;\r\n",
       "    }\r\n",
       "    .chat-window {\r\n",
       "        max-width: 500px;\r\n",
       "        margin: 0 auto;\r\n",
       "        background: #fff;\r\n",
       "        border: 1px solid #ddd;\r\n",
       "        border-radius: 5px;\r\n",
       "        padding: 15px;\r\n",
       "    }\r\n",
       "    .message {\r\n",
       "        margin-bottom: 15px;\r\n",
       "    }\r\n",
       "    .user .bubble {\r\n",
       "        background: #0084ff;\r\n",
       "        color: #fff;\r\n",
       "        text-align: right;\r\n",
       "        border-radius: 15px 15px 0 15px;\r\n",
       "        padding: 10px 15px;\r\n",
       "    }\r\n",
       "    .bot {\r\n",
       "        background: #e5e5ea;\r\n",
       "        color: #000;\r\n",
       "        text-align: left;\r\n",
       "        border-radius: 15px 15px 15px 0;\r\n",
       "        padding: 10px 15px;\r\n",
       "    }\r\n",
       "    .loading-dots {\r\n",
       "        display: inline-block;\r\n",
       "        margin-left: 5px;\r\n",
       "    }\r\n",
       "    .loading-dots span {\r\n",
       "        background-color: #666;\r\n",
       "        display: inline-block;\r\n",
       "        width: 6px;\r\n",
       "        height: 6px;\r\n",
       "        border-radius: 50%;\r\n",
       "        margin-right: 3px;\r\n",
       "        animation: dots 1.5s infinite;\r\n",
       "    }\r\n",
       "    .loading-dots span:nth-child(2) {\r\n",
       "        animation-delay: 0.5s;\r\n",
       "    }\r\n",
       "    .loading-dots span:nth-child(3) {\r\n",
       "        animation-delay: 1s;\r\n",
       "    }\r\n",
       "    @keyframes dots {\r\n",
       "        0%, 100% { opacity: 0; }\r\n",
       "        50% { opacity: 1; }\r\n",
       "    }\r\n",
       "</style>\r\n",
       "<div class=\"chat-window\">\r\n",
       "    <div class=\"message user\">\r\n",
       "        <div class=\"bubble\">\r\n",
       "            <p>Craft a rebalance proposal for the client Pete Mitchell increasing the weight of investments in tech stocks absed on our offering</p>\n",
       "\r\n",
       "        </div>\r\n",
       "    </div>\r\n",
       "    <div class=\"message bot\">\r\n",
       "    <div class=\"bubble\">\r\n",
       "        <p>To craft a tailored rebalance proposal for Pete Mitchell, the strategy should emphasize increasing exposure to high-growth technology stocks, particularly those driving advancements in AI and the semiconductor sector. Here are the recommendations:</p>\n",
       "<ol>\n",
       "<li><p><strong>Tech Sector Focus</strong>:</p>\n",
       "<ul>\n",
       "<li>Invest heavily in megacap tech firms such as Apple, Microsoft, and NVIDIA, which dominate the AI innovation space and are projected to see strong earnings growth.</li>\n",
       "</ul>\n",
       "</li>\n",
       "<li><p><strong>Semiconductor Investments</strong>:</p>\n",
       "<ul>\n",
       "<li>Diversify into high-quality semiconductor companies specializing in AI chips, as this sector is expected to grow earnings by 50% this year.</li>\n",
       "</ul>\n",
       "</li>\n",
       "<li><p><strong>AI Ecosystem</strong>:</p>\n",
       "<ul>\n",
       "<li>Include stocks in cloud infrastructure and data centers which support AI growth, with annual investments forecasted to reach USD 331 billion by 2027.</li>\n",
       "</ul>\n",
       "</li>\n",
       "<li><p><strong>ETF Option</strong>:</p>\n",
       "<ul>\n",
       "<li>Consider the Moneta Bank MSCI World ETF, which allocates 22% to Information Technology and includes key holdings like Apple, Microsoft, and NVIDIA. The ETF provides diversification, cost efficiency (0.15% expense ratio), and liquidity, making it ideal for balancing growth and risk.</li>\n",
       "</ul>\n",
       "</li>\n",
       "</ol>\n",
       "<p>This strategy ensures Pete benefits from the robust growth potential in tech, while maintaining diversification and cost-effective asset management.</p>\n",
       "\r\n",
       "    </div>\r\n",
       "</div>\r\n",
       "</div>"
      ]
     },
     "metadata": {},
     "output_type": "display_data"
    },
    {
     "name": "stdout",
     "output_type": "stream",
     "text": [
      "info: Microsoft.SemanticKernel.Agents.AgentGroupChat[0]\n",
      "      [AddChatMessages] Added Messages: 1.\n",
      "\n",
      "info: Microsoft.SemanticKernel.Agents.Chat.KernelFunctionSelectionStrategy[0]\n",
      "      [NextAsync] Invoked function: (null).SpeakerSelector: Microsoft.SemanticKernel.Connectors.OpenAI.OpenAIChatMessageContent\n",
      "\n",
      "info: Microsoft.SemanticKernel.Agents.AgentGroupChat[0]\n",
      "      [InvokeAsync] Agent selected Microsoft.SemanticKernel.Agents.AzureAI.AzureAIAgent: asst_FE2zFmUZVvgR4oLs2fBuFX8R/CIOAgent by Microsoft.SemanticKernel.Agents.Chat.KernelFunctionSelectionStrategy\n",
      "\n",
      "info: Microsoft.SemanticKernel.Agents.AgentGroupChat[0]\n",
      "      [InvokeAgentAsync] Created channel for Microsoft.SemanticKernel.Agents.AzureAI.AzureAIAgent: asst_FE2zFmUZVvgR4oLs2fBuFX8R/CIOAgent\n",
      "\n",
      "[assistant - CIOAgent] To craft a rebalance proposal for Pete Mitchell focusing on increasing the weight of investments in tech stocks, consider the following recommendations based on Moneta Bank's CIO insights:\n",
      "\n",
      "1. **Focus on AI-Driven Growth**:\n",
      "   - Invest in megacap tech companies, which are expected to deliver sustained earnings growth of 15-20% due to their dominant market positions and significant investments in AI technologies. These firms are projected to expand their free cash flow from USD 413bn in 2024 to USD 522bn by 2025【3:4†source】.\n",
      "\n",
      "2. **Semiconductor Sector**:\n",
      "   - Allocate funds to high-quality semiconductor companies, particularly those involved in AI logic chips and foundry stocks. The semiconductor industry is forecasted to see a 50% rise in earnings this year, followed by a 25% increase in 2025【3:2†source】【3:4†source】.\n",
      "\n",
      "3. **Diversification Across AI Ecosystem**:\n",
      "   - Include investments in companies enabling AI growth, such as those in cloud infrastructure, data centers, and power supply. Annual capital expenditures in these areas are expected to reach USD 331 billion by 2027【3:3†source】.\n",
      "\n",
      "4. **Quality Growth Stocks**:\n",
      "   - Prioritize technology companies with strong balance sheets and leading positions in the AI value chain, aligning with the quality growth investment theme【3:1†source】.\n",
      "\n",
      "This strategy ensures exposure to high-growth areas within the tech sector while leveraging the long-term potential of AI-driven innovation.\n",
      "info: Microsoft.SemanticKernel.Agents.AgentGroupChat[0]\n",
      "      [InvokeAgentAsync] Invoked agent Microsoft.SemanticKernel.Agents.AzureAI.AzureAIAgent/asst_FE2zFmUZVvgR4oLs2fBuFX8R/CIOAgent.\n",
      "\n",
      "info: Microsoft.SemanticKernel.Agents.Chat.KernelFunctionSelectionStrategy[0]\n",
      "      [NextAsync] Invoked function: (null).SpeakerSelector: Microsoft.SemanticKernel.Connectors.OpenAI.OpenAIChatMessageContent\n",
      "\n",
      "info: Microsoft.SemanticKernel.Agents.AgentGroupChat[0]\n",
      "      [InvokeAsync] Agent selected Microsoft.SemanticKernel.Agents.AzureAI.AzureAIAgent: asst_9DqhEktr1zskwQCBobA8a0az/FundsAgent by Microsoft.SemanticKernel.Agents.Chat.KernelFunctionSelectionStrategy\n",
      "\n",
      "[assistant - FundsAgent] To increase Pete Mitchell's exposure to tech stocks, consider the Moneta Bank MSCI World ETF (MWETF). This ETF has a significant allocation to Information Technology (22%) and includes top holdings such as Apple Inc. (4.5%), Microsoft Corp. (4.0%), NVIDIA Corp. (2.2%), and Meta Platforms Inc. (1.9%). It offers diversification across developed markets, cost efficiency with a 0.15% expense ratio, and quarterly dividend income【8:-1†source】【8:-1†source】.\n",
      "info: Microsoft.SemanticKernel.Agents.AgentGroupChat[0]\n",
      "      [InvokeAgentAsync] Invoked agent Microsoft.SemanticKernel.Agents.AzureAI.AzureAIAgent/asst_9DqhEktr1zskwQCBobA8a0az/FundsAgent.\n",
      "\n",
      "info: Microsoft.SemanticKernel.Agents.Chat.KernelFunctionSelectionStrategy[0]\n",
      "      [NextAsync] Invoked function: (null).SpeakerSelector: Microsoft.SemanticKernel.Connectors.OpenAI.OpenAIChatMessageContent\n",
      "\n",
      "info: Microsoft.SemanticKernel.Agents.AgentGroupChat[0]\n",
      "      [InvokeAsync] Agent selected Microsoft.SemanticKernel.Agents.AzureAI.AzureAIAgent: asst_PErko59jpSlNSCl3QptROznL/SummariserAgent by Microsoft.SemanticKernel.Agents.Chat.KernelFunctionSelectionStrategy\n",
      "\n",
      "[assistant - SummariserAgent] To craft a tailored rebalance proposal for Pete Mitchell, the strategy should emphasize increasing exposure to high-growth technology stocks, particularly those driving advancements in AI and the semiconductor sector. Here are the recommendations:\n",
      "\n",
      "1. **Tech Sector Focus**:\n",
      "   - Invest heavily in megacap tech firms such as Apple, Microsoft, and NVIDIA, which dominate the AI innovation space and are projected to see strong earnings growth.\n",
      "\n",
      "2. **Semiconductor Investments**:\n",
      "   - Diversify into high-quality semiconductor companies specializing in AI chips, as this sector is expected to grow earnings by 50% this year.\n",
      "\n",
      "3. **AI Ecosystem**:\n",
      "   - Include stocks in cloud infrastructure and data centers which support AI growth, with annual investments forecasted to reach USD 331 billion by 2027.\n",
      "\n",
      "4. **ETF Option**:\n",
      "   - Consider the Moneta Bank MSCI World ETF, which allocates 22% to Information Technology and includes key holdings like Apple, Microsoft, and NVIDIA. The ETF provides diversification, cost efficiency (0.15% expense ratio), and liquidity, making it ideal for balancing growth and risk.\n",
      "\n",
      "This strategy ensures Pete benefits from the robust growth potential in tech, while maintaining diversification and cost-effective asset management.\n",
      "info: Microsoft.SemanticKernel.Agents.AgentGroupChat[0]\n",
      "      [InvokeAgentAsync] Invoked agent Microsoft.SemanticKernel.Agents.AzureAI.AzureAIAgent/asst_PErko59jpSlNSCl3QptROznL/SummariserAgent.\n",
      "\n",
      "\n",
      "[IS COMPLETED: True]\n"
     ]
    }
   ],
   "source": [
    "#pragma warning disable SKEXP0110\n",
    "#pragma warning disable SKEXP0001\n",
    "\n",
    "var input = new ChatMessageContent(AuthorRole.User, \"Craft a rebalance proposal for the client Pete Mitchell increasing the weight of investments in tech stocks absed on our offering\");\n",
    "\n",
    "var response =\n",
    "    \"\"\"\n",
    "    To craft a rebalance proposal for Pete Mitchell focusing on increasing investments in tech stocks, the strategy should leverage Moneta Bank's insights into high-growth sectors:\n",
    "\n",
    "    1. **Megacap Tech Companies**: These firms are positioned to thrive in the AI era, offering sustained earnings growth of 15-20% driven by AI monetization. Their dominant market position and robust free cash flow generation make them attractive for long-term investments, even amidst market volatility.\n",
    "\n",
    "    2. **AI Ecosystem Investments**: Focusing on companies within the AI value chain, particularly in semiconductors, cloud infrastructure, and data centers, ensures exposure to one of the most compelling long-term growth opportunities. These areas are projected to see substantial capital investment and earnings growth.\n",
    "\n",
    "    3. **Technology Sector Diversification**: Include technology companies with strong balance sheets and leadership in AI innovation. Diversify further by considering consumer brands with stable pricing power and healthcare firms capitalizing on structural trends.\n",
    "\n",
    "    This proposal emphasizes quality growth stocks in technology, leveraging industry leadership and innovation to enhance portfolio returns while aligning with current market trends.\n",
    "    \"\"\";\n",
    "\n",
    "var chatUi = OutputHelper.RenderHtmlForConversation(input.Content, response).Display();\n",
    "\n",
    "var groupChat = CreateAgentGroupChat();\n",
    "try\n",
    "{\n",
    "    groupChat.AddChatMessage(input);\n",
    "\n",
    "    string lastMessageContent = \"sorry, unable to process your request\";\n",
    "\n",
    "    await foreach (var response in groupChat.InvokeAsync())\n",
    "    {\n",
    "        Console.WriteLine($\"[{response.Role} - {response.AuthorName}] {response.Content}\");\n",
    "        lastMessageContent = response.Content;\n",
    "    }\n",
    "    \n",
    "    Console.WriteLine($\"\\n[IS COMPLETED: {groupChat.IsComplete}]\");\n",
    "\n",
    "    chatUi.Update(\n",
    "        OutputHelper.RenderHtmlForConversation(\n",
    "            input.Content,\n",
    "            lastMessageContent\n",
    "        )\n",
    "    );\n",
    "}\n",
    "finally\n",
    "{\n",
    "    await groupChat.ResetAsync();\n",
    "}"
   ]
  }
 ],
 "metadata": {
  "kernelspec": {
   "display_name": ".NET (C#)",
   "language": "C#",
   "name": ".net-csharp"
  },
  "language_info": {
   "file_extension": ".cs",
   "mimetype": "text/x-csharp",
   "name": "C#",
   "pygments_lexer": "csharp",
   "version": "13.0"
  },
  "polyglot_notebook": {
   "kernelInfo": {
    "defaultKernelName": "csharp",
    "items": [
     {
      "aliases": [],
      "name": "csharp"
     }
    ]
   }
  }
 },
 "nbformat": 4,
 "nbformat_minor": 5
}
